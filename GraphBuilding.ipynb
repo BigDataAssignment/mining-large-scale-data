{
 "cells": [
  {
   "cell_type": "markdown",
   "metadata": {},
   "source": [
    "# Graph Building Notebook\n",
    "\n",
    "Author: Christian Spiteri Gauci\n",
    "\n",
    "## Method\n",
    "\n",
    "* Graph data as an output from the post_feature_engineering is loaded\n",
    "* Nodes - Every subreddit and every word2 - word2 being noun/pronoun, subreddit being the mental health diseases\n",
    "* Going through every entry, if node already exist - use it, if not create a new one\n",
    "* comparing word2 (noun) with subreddit entries - if the same, the subreddit node is to be used and points to itself, or to another subreddit node\n",
    "* Word 1 (the verb) is the relationship between the nodes (subreddit and word2)\n",
    "* The direction of the relationship is determined by the semantics of the sentence - dobj or nsubj\n",
    "\n",
    "\n",
    "\n"
   ]
  },
  {
   "cell_type": "code",
   "execution_count": 17,
   "metadata": {},
   "outputs": [],
   "source": [
    "import pandas as pd\n",
    "import numpy as np\n",
    "from py2neo import Graph, Node, Relationship\n",
    "import ast\n",
    "import os\n",
    "from dotenv import load_dotenv\n",
    "from os import getenv\n",
    "from concurrent.futures import ThreadPoolExecutor\n",
    "import gc\n",
    "import concurrent.futures\n",
    "from tqdm import tqdm"
   ]
  },
  {
   "cell_type": "code",
   "execution_count": 18,
   "metadata": {},
   "outputs": [],
   "source": [
    "df = pd.read_csv(\"./data/GraphData.csv\")"
   ]
  },
  {
   "cell_type": "code",
   "execution_count": 19,
   "metadata": {},
   "outputs": [],
   "source": [
    "# sample_percentage = 0.001\n",
    "num_rows = 500\n",
    "\n",
    "# sampled_df = df.sample(frac=sample_percentage, random_state=42) \n",
    "sampled_df = df.sample(n=num_rows, random_state=42)\n",
    "\n",
    "sampled_df.to_csv(\"./data/GraphData_sampled.csv\", index=False)"
   ]
  },
  {
   "cell_type": "markdown",
   "metadata": {},
   "source": [
    "From Spacy: https://github.com/clir/clearnlp-guidelines/blob/master/md/specifications/dependency_labels.md\n",
    "\n",
    "nsubj - nominal subject (verb (action) performed by the NS)\n",
    "dobj - direct object  (verb (action) performed on the DO)\n",
    "\n",
    "This is used to determine the direction of the relationship."
   ]
  },
  {
   "cell_type": "code",
   "execution_count": 22,
   "metadata": {},
   "outputs": [
    {
     "name": "stderr",
     "output_type": "stream",
     "text": [
      "Processing Rows:   0%|          | 0/500 [00:00<?, ?it/s]"
     ]
    },
    {
     "name": "stderr",
     "output_type": "stream",
     "text": [
      "Processing Rows: 100%|██████████| 500/500 [00:00<00:00, 605.46it/s]\n"
     ]
    }
   ],
   "source": [
    "load_dotenv()\n",
    "client_id = os.getenv('N4J_USER')\n",
    "client_secret = os.getenv('N4J_PW')\n",
    "# assert client_id is not None and client_secret is not None\n",
    "\n",
    "graph = Graph(uri=\"bolt://localhost:7687\", auth=(\"neo4j\", \"letmein1234\"))\n",
    "# graph = Graph(uri=\"bolt://localhost:7687\", auth=(client_id, client_secret))\n",
    "\n",
    "graph.delete_all()\n",
    "existing_nodes = {}\n",
    "tx = graph.begin()\n",
    "\n",
    "for row in tqdm(sampled_df.itertuples(), total=len(sampled_df), desc=\"Processing Rows\"):\n",
    "    # Check if the Subreddit node already exists\n",
    "    existing_subreddit = existing_nodes.get(row.Subreddit.lower())\n",
    "\n",
    "    if existing_subreddit:\n",
    "        subreddit_node = existing_subreddit\n",
    "    else:\n",
    "        subreddit_node = Node(\"Mental_Health_Disorder\", name=row.Subreddit.lower()) \n",
    "        tx.create(subreddit_node)\n",
    "        existing_nodes[row.Subreddit.lower()] = subreddit_node\n",
    "\n",
    "    \n",
    "    # Check if the Word node already exists\n",
    "    word2_lowercase = row.Word2.lower()\n",
    "    existing_word = existing_nodes.get(word2_lowercase)   \n",
    "\n",
    "    if word2_lowercase == row.Subreddit.lower():\n",
    "        word2_node = subreddit_node  # Use the Subreddit node for Word2\n",
    "    elif existing_word:\n",
    "        word2_node = existing_word\n",
    "    else:\n",
    "        word2_node = Node(\"Word\", name=word2_lowercase)\n",
    "        tx.create(word2_node)\n",
    "        existing_nodes[word2_lowercase] = word2_node\n",
    "\n",
    "\n",
    "    mh_labels_dict = ast.literal_eval(row.MHlabels)\n",
    "\n",
    "    # Determine the relationship direction based on 'Dependency'\n",
    "    if row.Dependency == 'dobj':\n",
    "        # If 'Dependency' is 'dobj', create relationship from 'Subreddit' to 'Word2'\n",
    "        relationship = Relationship(subreddit_node, row.Word1, word2_node, **mh_labels_dict)\n",
    "    elif row.Dependency == 'nsubj':\n",
    "        # If 'Dependency' is 'nsubj', create relationship from 'Word2' to 'Subreddit'\n",
    "        relationship = Relationship(word2_node, row.Word1, subreddit_node, **mh_labels_dict)\n",
    "    else:\n",
    "        continue\n",
    "\n",
    "    tx.create(relationship)\n",
    "graph.commit(tx)\n"
   ]
  },
  {
   "cell_type": "code",
   "execution_count": 24,
   "metadata": {},
   "outputs": [
    {
     "name": "stderr",
     "output_type": "stream",
     "text": [
      "Processing Batches:   0%|          | 0/7 [00:00<?, ?it/s]"
     ]
    }
   ],
   "source": [
    "load_dotenv()\n",
    "client_id = os.getenv('N4J_USER')\n",
    "client_secret = os.getenv('N4J_PW')\n",
    "# assert client_id is not None and client_secret is not None\n",
    "\n",
    "graph = Graph(uri=\"bolt://localhost:7687\", auth=(\"neo4j\", \"letmein1234\"))\n",
    "# graph = Graph(uri=\"bolt://localhost:7687\", auth=(client_id, client_secret))\n",
    "\n",
    "graph.delete_all()\n",
    "\n",
    "# Function to process a batch of rows\n",
    "def process_batch(graph, existing_nodes, batch):\n",
    "\n",
    "    tx = graph.begin()\n",
    "\n",
    "    for row in batch.itertuples():\n",
    "        # Check if the Subreddit node already exists\n",
    "        existing_subreddit = existing_nodes.get(row.Subreddit.lower())\n",
    "\n",
    "        if existing_subreddit:\n",
    "            subreddit_node = existing_subreddit\n",
    "        else:\n",
    "            subreddit_node = Node(\"Mental_Health_Disorder\", name=row.Subreddit.lower()) \n",
    "            tx.create(subreddit_node)\n",
    "            existing_nodes[row.Subreddit.lower()] = subreddit_node\n",
    "\n",
    "        \n",
    "        # Check if the Word node already exists\n",
    "        word2_lowercase = row.Word2.lower()\n",
    "        existing_word = existing_nodes.get(word2_lowercase)   \n",
    "\n",
    "        if word2_lowercase == row.Subreddit.lower():\n",
    "            word2_node = subreddit_node  # Use the Subreddit node for Word2\n",
    "        elif existing_word:\n",
    "            word2_node = existing_word\n",
    "        else:\n",
    "            word2_node = Node(\"Word\", name=word2_lowercase)\n",
    "            tx.create(word2_node)\n",
    "            existing_nodes[word2_lowercase] = word2_node\n",
    "\n",
    "\n",
    "        mh_labels_dict = ast.literal_eval(row.MHlabels)\n",
    "\n",
    "        # Determine the relationship direction based on 'Dependency'\n",
    "        if row.Dependency == 'dobj':\n",
    "            # If 'Dependency' is 'dobj', create relationship from 'Subreddit' to 'Word2'\n",
    "            relationship = Relationship(subreddit_node, row.Word1, word2_node, **mh_labels_dict)\n",
    "        elif row.Dependency == 'nsubj':\n",
    "            # If 'Dependency' is 'nsubj', create relationship from 'Word2' to 'Subreddit'\n",
    "            relationship = Relationship(word2_node, row.Word1, subreddit_node, **mh_labels_dict)\n",
    "        else:\n",
    "            continue\n",
    "\n",
    "        tx.create(relationship)\n",
    "    \n",
    "    graph.commit(tx)\n",
    "\n",
    "\n",
    "graph = Graph(uri=\"bolt://localhost:7687\", auth=(\"neo4j\", \"letmein1234\"))\n",
    "existing_nodes = {}    \n",
    "num_workers = 6\n",
    "batch_size = len(df) // num_workers\n",
    "\n",
    "for i in tqdm(range(0, len(df), batch_size), desc=\"Processing Batches\"):\n",
    "    batch = df.iloc[i:i+batch_size]\n",
    "\n",
    "    with concurrent.futures.ThreadPoolExecutor(max_workers=num_workers) as executor:\n",
    "        futures = [executor.submit(process_batch, graph,existing_nodes, batch) for batch in np.array_split(batch, num_workers)]\n",
    "\n",
    "    concurrent.futures.wait(futures)"
   ]
  },
  {
   "cell_type": "code",
   "execution_count": null,
   "metadata": {},
   "outputs": [],
   "source": [
    "# Query to return all nodes in the graph\n",
    "query = \"MATCH (n) return n\"\n",
    "graph.run(query).data()"
   ]
  }
 ],
 "metadata": {
  "kernelspec": {
   "display_name": "Python 3",
   "language": "python",
   "name": "python3"
  },
  "language_info": {
   "codemirror_mode": {
    "name": "ipython",
    "version": 3
   },
   "file_extension": ".py",
   "mimetype": "text/x-python",
   "name": "python",
   "nbconvert_exporter": "python",
   "pygments_lexer": "ipython3",
   "version": "3.12.1"
  }
 },
 "nbformat": 4,
 "nbformat_minor": 2
}
