{
 "cells": [
  {
   "cell_type": "code",
   "execution_count": 13,
   "metadata": {},
   "outputs": [],
   "source": [
    "import pandas as pd\n",
    "import numpy as np\n",
    "from py2neo import Graph, Node, Relationship"
   ]
  },
  {
   "cell_type": "code",
   "execution_count": 14,
   "metadata": {},
   "outputs": [],
   "source": [
    "df = pd.read_csv(\"./data/GraphData.csv\")"
   ]
  },
  {
   "cell_type": "code",
   "execution_count": 38,
   "metadata": {},
   "outputs": [
    {
     "name": "stdout",
     "output_type": "stream",
     "text": [
      "     Subreddit   Word1 Dependency     Word2  \\\n",
      "3163       BPD    said      nsubj     swore   \n",
      "1893       BPD   ended      nsubj  marriage   \n",
      "3690       BPD     saw      nsubj   periods   \n",
      "1703       BPD  quotes      nsubj     https   \n",
      "5210       BPD  period      nsubj    people   \n",
      "\n",
      "                                               MHlabels  \n",
      "3163                                                 {}  \n",
      "1893                                                 {}  \n",
      "3690                                                 {}  \n",
      "1703  {'NEURO-DEVELOPMENTAL DISORDERS': ['autism'], ...  \n",
      "5210                                                 {}  \n"
     ]
    }
   ],
   "source": [
    "# Use percentage or a specified number of rows\n",
    "# sample_percentage = 0.001\n",
    "num_rows = 500\n",
    "\n",
    "\n",
    "# sampled_df = df.sample(frac=sample_percentage, random_state=42)\n",
    "sampled_df = df.sample(n=num_rows, random_state=42)\n",
    "print(sampled_df.head(5))\n",
    "\n",
    "sampled_df.to_csv(\"./data/GraphData_sampled.csv\", index=False)\n"
   ]
  },
  {
   "cell_type": "code",
   "execution_count": 39,
   "metadata": {},
   "outputs": [],
   "source": [
    "from dotenv import load_dotenv\n",
    "import os\n",
    "load_dotenv()\n",
    "\n",
    "# Christian, add these to a .env file. \"neo4j\", \"letmein1234\" - delete this comment if you manage.\n",
    "client_id = os.getenv('N4J_USER')\n",
    "client_secret = os.getenv('N4J_PW')\n",
    "assert client_id is not None and client_secret is not None\n",
    "\n",
    "graph = Graph(uri=\"bolt://localhost:7687\", auth=(client_id, client_secret))\n",
    "graph.delete_all()\n",
    "existing_nodes = {}\n",
    "tx = graph.begin()\n",
    "\n",
    "for row in sampled_df.itertuples():\n",
    "    existing_subreddit = existing_nodes.get(row.Subreddit)\n",
    "\n",
    "    if existing_subreddit:\n",
    "        subreddit_node = existing_subreddit\n",
    "    else:\n",
    "        subreddit_node = Node(\"Subreddit\", name=row.Subreddit)\n",
    "        tx.create(subreddit_node)\n",
    "        existing_nodes[row.Subreddit] = subreddit_node\n",
    "\n",
    "    existing_word = existing_nodes.get(row.Word2)\n",
    "    if existing_word:\n",
    "        word2_node = existing_word\n",
    "    else:\n",
    "        word2_node = Node(\"Word\", name=row.Word2)\n",
    "        tx.create(word2_node)\n",
    "        existing_nodes[row.Word2] = word2_node\n",
    "\n",
    "    # Determine the relationship direction based on 'Dependency'\n",
    "    if row.Dependency == 'dobj':\n",
    "        # If 'Dependency' is 'dobj', create relationship from 'Subreddit' to 'Word2'\n",
    "        relationship = Relationship(subreddit_node, row.Word1, word2_node)\n",
    "    elif row.Dependency == 'nsubj':\n",
    "        # If 'Dependency' is 'nsubj', create relationship from 'Word2' to 'Subreddit'\n",
    "        relationship = Relationship(word2_node, row.Word1, subreddit_node)\n",
    "    else:\n",
    "        # Handle other cases or default to a specific direction\n",
    "        # For example, you can choose a default direction or skip the relationship\n",
    "        continue\n",
    "\n",
    "    # Always create relationships\n",
    "    tx.create(relationship)\n",
    "graph.commit(tx)"
   ]
  },
  {
   "cell_type": "code",
   "execution_count": 37,
   "metadata": {},
   "outputs": [
    {
     "data": {
      "text/plain": [
       "[{'n': Node('Subreddit', name='Anxiety')},\n",
       " {'n': Node('Subreddit', name='BPD')},\n",
       " {'n': Node('Subreddit', name='depression')},\n",
       " {'n': Node('Subreddit', name='schizophrenia')},\n",
       " {'n': Node('Subreddit', name='mentalillness')},\n",
       " {'n': Node('Subreddit', name='bipolar')}]"
      ]
     },
     "execution_count": 37,
     "metadata": {},
     "output_type": "execute_result"
    }
   ],
   "source": [
    "query = \"MATCH (n:Subreddit) RETURN n LIMIT 10\"\n",
    "graph.run(query).data()\n",
    "\n",
    "# Query to return all nodes in the graph\n",
    "# query = \"MATCH (n) return n\"\n",
    "# graph.run(query).data()"
   ]
  }
 ],
 "metadata": {
  "kernelspec": {
   "display_name": "Python 3",
   "language": "python",
   "name": "python3"
  },
  "language_info": {
   "codemirror_mode": {
    "name": "ipython",
    "version": 3
   },
   "file_extension": ".py",
   "mimetype": "text/x-python",
   "name": "python",
   "nbconvert_exporter": "python",
   "pygments_lexer": "ipython3",
   "version": "3.10.13"
  }
 },
 "nbformat": 4,
 "nbformat_minor": 2
}
