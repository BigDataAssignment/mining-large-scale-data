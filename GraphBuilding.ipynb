{
 "cells": [
  {
   "cell_type": "markdown",
   "metadata": {},
   "source": [
    "# Graph Building Notebook\n",
    "\n",
    "Author: Christian Spiteri Gauci\n",
    "\n",
    "## Method\n",
    "\n",
    "* Graph data as an output from the post_feature_engineering is loaded\n",
    "* Nodes - Every subreddit and every word2 - word2 being noun/pronoun, subreddit being the mental health diseases\n",
    "* Going through every entry, if node already exist - use it, if not create a new one\n",
    "* comparing word2 (noun) with subreddit entries - if the same, the subreddit node is to be used and points to itself, or to another subreddit node\n",
    "* Word 1 (the verb) is the relationship between the nodes (subreddit and word2)\n",
    "* The direction of the relationship is determined by the semantics of the sentence - dobj or nsubj\n",
    "\n",
    "\n",
    "\n"
   ]
  },
  {
   "cell_type": "code",
   "execution_count": 14,
   "metadata": {},
   "outputs": [],
   "source": [
    "import pandas as pd\n",
    "import numpy as np\n",
    "from py2neo import Graph, Node, Relationship\n",
    "import ast\n",
    "import os\n",
    "from dotenv import load_dotenv\n",
    "from os import getenv\n",
    "from concurrent.futures import ThreadPoolExecutor\n",
    "import gc\n",
    "import concurrent.futures\n",
    "from tqdm import tqdm\n",
    "import threading"
   ]
  },
  {
   "cell_type": "code",
   "execution_count": 15,
   "metadata": {},
   "outputs": [],
   "source": [
    "df = pd.read_csv(\"./data/GraphData.csv\")"
   ]
  },
  {
   "cell_type": "code",
   "execution_count": 16,
   "metadata": {},
   "outputs": [],
   "source": [
    "# sample_percentage = 0.1\n",
    "num_rows = 1000\n",
    "\n",
    "# sampled_df = df.sample(frac=sample_percentage, random_state=42) \n",
    "sampled_df = df.sample(n=num_rows, random_state=42)\n",
    "\n",
    "sampled_df.to_csv(\"./data/GraphData_sampled.csv\", index=False)"
   ]
  },
  {
   "cell_type": "markdown",
   "metadata": {},
   "source": [
    "From Spacy: https://github.com/clir/clearnlp-guidelines/blob/master/md/specifications/dependency_labels.md\n",
    "\n",
    "nsubj - nominal subject (verb (action) performed by the NS)\n",
    "dobj - direct object  (verb (action) performed on the DO)\n",
    "\n",
    "This is used to determine the direction of the relationship."
   ]
  },
  {
   "cell_type": "code",
   "execution_count": 17,
   "metadata": {},
   "outputs": [
    {
     "name": "stderr",
     "output_type": "stream",
     "text": [
      "Processing Rows:   0%|          | 0/1000 [00:00<?, ?it/s]"
     ]
    },
    {
     "name": "stderr",
     "output_type": "stream",
     "text": [
      "Processing Rows: 100%|██████████| 1000/1000 [00:02<00:00, 421.75it/s]"
     ]
    },
    {
     "name": "stdout",
     "output_type": "stream",
     "text": [
      "\n"
     ]
    },
    {
     "name": "stderr",
     "output_type": "stream",
     "text": [
      "\n"
     ]
    }
   ],
   "source": [
    "load_dotenv()\n",
    "client_id = os.getenv('N4J_USER')\n",
    "client_secret = os.getenv('N4J_PW')\n",
    "# assert client_id is not None and client_secret is not None\n",
    "\n",
    "graph = Graph(uri=\"bolt://localhost:7687\", auth=(\"neo4j\", \"letmein1234\"))\n",
    "# graph = Graph(uri=\"bolt://localhost:7687\", auth=(client_id, client_secret))\n",
    "\n",
    "graph.delete_all()\n",
    "existing_nodes = {}\n",
    "tx = graph.begin()\n",
    "\n",
    "for row in tqdm(sampled_df.itertuples(), total=len(sampled_df), desc=\"Processing Rows\", position=0):\n",
    "    # Check if the Subreddit node already exists\n",
    "    existing_subreddit = existing_nodes.get(row.Subreddit.lower())\n",
    "\n",
    "    if existing_subreddit:\n",
    "        subreddit_node = existing_subreddit\n",
    "    else:\n",
    "        subreddit_node = Node(\"Mental_Health_Disorder\", name=row.Subreddit.lower()) \n",
    "        tx.create(subreddit_node)\n",
    "        existing_nodes[row.Subreddit.lower()] = subreddit_node\n",
    "\n",
    "    \n",
    "    # Check if the Word node already exists\n",
    "    word2_lowercase = row.Word2.lower()\n",
    "    existing_word = existing_nodes.get(word2_lowercase)   \n",
    "\n",
    "    if word2_lowercase == row.Subreddit.lower():\n",
    "        word2_node = subreddit_node  # Use the Subreddit node for Word2\n",
    "    elif existing_word:\n",
    "        word2_node = existing_word\n",
    "    else:\n",
    "        word2_node = Node(\"Word\", name=word2_lowercase)\n",
    "        tx.create(word2_node)\n",
    "        existing_nodes[word2_lowercase] = word2_node\n",
    "\n",
    "\n",
    "    mh_labels_dict = ast.literal_eval(row.MHlabels)\n",
    "\n",
    "    # Determine the relationship direction based on 'Dependency'\n",
    "    if row.Dependency == 'dobj':\n",
    "        # If 'Dependency' is 'dobj', create relationship from 'Subreddit' to 'Word2'\n",
    "        relationship = Relationship(subreddit_node, row.Word1, word2_node, **mh_labels_dict)\n",
    "    elif row.Dependency == 'nsubj':\n",
    "        # If 'Dependency' is 'nsubj', create relationship from 'Word2' to 'Subreddit'\n",
    "        relationship = Relationship(word2_node, row.Word1, subreddit_node, **mh_labels_dict)\n",
    "    else:\n",
    "        continue\n",
    "\n",
    "    tx.create(relationship)\n",
    "\n",
    "print()\n",
    "graph.commit(tx)\n"
   ]
  },
  {
   "cell_type": "markdown",
   "metadata": {},
   "source": [
    "In the code above, we have Word2 (pronoun) connected directly to Subreddit(Class) via Word1 (Verb).\n",
    "However this means that we are losing interconnectivity infomration.\n",
    "\n",
    "For example:\n",
    "Entry 1:  Steal(Word1), nsubj, Man(Word2)\n",
    "Entry 2: Steal(Word1), dobj, Purse(Word2)\n",
    "\n",
    "From the graph above, i can never link the two lines mentioned above. since there won't be a connection.\n",
    "\n",
    "Below the graph is fixed to have Word2 connected to Word1 via a directional edge (relationship) and then this is connected to the Class. This way the graph holds a lot more information and more meaningful analysis can be performed"
   ]
  },
  {
   "cell_type": "code",
   "execution_count": 21,
   "metadata": {},
   "outputs": [
    {
     "name": "stderr",
     "output_type": "stream",
     "text": [
      "Processing Rows: 100%|██████████| 1000/1000 [00:04<00:00, 228.82it/s]"
     ]
    },
    {
     "name": "stdout",
     "output_type": "stream",
     "text": [
      "\n"
     ]
    },
    {
     "name": "stderr",
     "output_type": "stream",
     "text": [
      "\n"
     ]
    }
   ],
   "source": [
    "from tqdm import tqdm\n",
    "from py2neo import Node, Relationship, Graph\n",
    "import ast\n",
    "import os\n",
    "from dotenv import load_dotenv\n",
    "\n",
    "load_dotenv()\n",
    "\n",
    "client_id = os.getenv('N4J_USER')\n",
    "client_secret = os.getenv('N4J_PW')\n",
    "\n",
    "graph = Graph(uri=\"bolt://localhost:7687\", auth=(\"neo4j\", \"letmein1234\"))\n",
    "# graph = Graph(uri=\"bolt://localhost:7687\", auth=(client_id, client_secret))\n",
    "\n",
    "graph.delete_all()\n",
    "existing_nodes = {}\n",
    "tx = graph.begin()\n",
    "\n",
    "for row in tqdm(sampled_df.itertuples(), total=len(sampled_df), desc=\"Processing Rows\", position=0):\n",
    "    # Check if the Subreddit node already exists\n",
    "    existing_subreddit = existing_nodes.get(row.Subreddit.lower())\n",
    "\n",
    "    if existing_subreddit:\n",
    "        subreddit_node = existing_subreddit\n",
    "    else:\n",
    "        subreddit_node = Node(\"Mental_Health_Disorder\", name=row.Subreddit.lower()) \n",
    "        tx.create(subreddit_node)\n",
    "        existing_nodes[row.Subreddit.lower()] = subreddit_node\n",
    "\n",
    "    # Check if the Word1 node already exists\n",
    "    word1_lowercase = row.Word1.lower()\n",
    "    existing_word1 = existing_nodes.get(word1_lowercase)\n",
    "\n",
    "    if existing_word1:\n",
    "        word1_node = existing_word1\n",
    "    else:\n",
    "        word1_node = Node(\"Verb\", name=word1_lowercase)\n",
    "        tx.create(word1_node)\n",
    "        existing_nodes[word1_lowercase] = word1_node\n",
    "\n",
    "        # Connect Word1 to the Subreddit class\n",
    "        relationship_subreddit_to_word1 = Relationship(subreddit_node, \"HAS_WORD\", word1_node)\n",
    "        tx.create(relationship_subreddit_to_word1)\n",
    "\n",
    "    # Check if the Word2 node already exists\n",
    "    word2_lowercase = row.Word2.lower()\n",
    "    existing_word2 = existing_nodes.get(word2_lowercase)\n",
    "\n",
    "    if word2_lowercase == row.Subreddit.lower():\n",
    "        word2_node = subreddit_node  # Use the Subreddit node for Word2\n",
    "    elif existing_word2:\n",
    "        word2_node = existing_word2\n",
    "    else:\n",
    "        word2_node = Node(\"Word\", name=word2_lowercase)\n",
    "        tx.create(word2_node)\n",
    "        existing_nodes[word2_lowercase] = word2_node\n",
    "\n",
    "    mh_labels_dict = ast.literal_eval(row.MHlabels)\n",
    "\n",
    "    # Determine the relationship direction based on 'Dependency'\n",
    "    if row.Dependency == 'dobj':\n",
    "        # If 'Dependency' is 'dobj', create relationship from Word1 to Word2\n",
    "        relationship_word1_to_word2 = Relationship(word1_node, row.Dependency, word2_node, **mh_labels_dict)\n",
    "        tx.create(relationship_word1_to_word2)\n",
    "    elif row.Dependency == 'nsubj':\n",
    "        # If 'Dependency' is 'nsubj', create relationship from Word2 to Word1\n",
    "        relationship_word2_to_word1 = Relationship(word2_node, row.Dependency, word1_node, **mh_labels_dict)\n",
    "        tx.create(relationship_word2_to_word1)\n",
    "    else:\n",
    "        continue\n",
    "\n",
    "print()\n",
    "graph.commit(tx)\n"
   ]
  },
  {
   "cell_type": "code",
   "execution_count": null,
   "metadata": {},
   "outputs": [],
   "source": [
    "# Query to return all nodes in the graph\n",
    "query = \"MATCH (n) return n\"\n",
    "graph.run(query).data()"
   ]
  },
  {
   "cell_type": "markdown",
   "metadata": {},
   "source": [
    "Identifying Key Nodes"
   ]
  },
  {
   "cell_type": "code",
   "execution_count": null,
   "metadata": {},
   "outputs": [],
   "source": []
  }
 ],
 "metadata": {
  "kernelspec": {
   "display_name": "Python 3",
   "language": "python",
   "name": "python3"
  },
  "language_info": {
   "codemirror_mode": {
    "name": "ipython",
    "version": 3
   },
   "file_extension": ".py",
   "mimetype": "text/x-python",
   "name": "python",
   "nbconvert_exporter": "python",
   "pygments_lexer": "ipython3",
   "version": "3.12.1"
  }
 },
 "nbformat": 4,
 "nbformat_minor": 2
}
