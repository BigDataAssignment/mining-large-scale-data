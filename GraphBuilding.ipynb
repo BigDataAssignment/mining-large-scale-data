{
 "cells": [
  {
   "cell_type": "code",
   "execution_count": 1,
   "metadata": {},
   "outputs": [],
   "source": [
    "import pandas as pd\n",
    "import numpy as np\n",
    "import spacy\n",
    "from py2neo import Graph, Node, Relationship\n"
   ]
  },
  {
   "cell_type": "code",
   "execution_count": 2,
   "metadata": {},
   "outputs": [],
   "source": [
    "df = pd.read_csv(\"./data/GraphData.csv\")"
   ]
  },
  {
   "cell_type": "code",
   "execution_count": 16,
   "metadata": {},
   "outputs": [
    {
     "name": "stdout",
     "output_type": "stream",
     "text": [
      "        Subreddit     Word1 Dependency     Word2  \\\n",
      "6193596   Anxiety   knowing       dobj       day   \n",
      "1973406       BPD   boosted       dobj  finances   \n",
      "5840048   Anxiety    taking       dobj     carbs   \n",
      "6722662   Anxiety  universe      nsubj     death   \n",
      "2766017       BPD     heard      nsubj      help   \n",
      "\n",
      "                                                  MHlabels  \n",
      "6193596  {'SYMPTOMS': ['anxiety', 'panic attack'], 'SLE...  \n",
      "1973406  {'ANXIETY DISORDERS': ['anxiety'], 'DEPRESSIVE...  \n",
      "5840048  {'SYMPTOMS': ['anxiety'], 'ANXIETY DISORDERS':...  \n",
      "6722662                                                 {}  \n",
      "2766017                            {'SYMPTOMS': ['anger']}  \n"
     ]
    }
   ],
   "source": [
    "# Use percentage or a specified number of rows\n",
    "sample_percentage = 0.001\n",
    "num_rows = 100\n",
    "\n",
    "\n",
    "# sampled_df = df.sample(frac=sample_percentage, random_state=42) \n",
    "sampled_df = df.sample(n=num_rows, random_state=42)\n",
    "print(sampled_df.head(5))\n",
    "\n",
    "sampled_df.to_csv(\"./data/GraphData_sampled.csv\", index=False)\n",
    "\n"
   ]
  },
  {
   "cell_type": "code",
   "execution_count": 27,
   "metadata": {},
   "outputs": [],
   "source": [
    "\n",
    "# Create a connection to your Neo4j instance\n",
    "graph = Graph(uri=\"bolt://localhost:7687\", auth=(\"neo4j\", \"letmein1234\"))\n",
    "\n",
    "graph.delete_all()\n",
    "# Dictionary to store existing nodes\n",
    "existing_nodes = {}\n",
    "\n",
    "tx = graph.begin()\n",
    "\n",
    "# Iterate through the DataFrame and create nodes and relationships\n",
    "for row in sampled_df.itertuples():\n",
    "\n",
    "    # Check if the Subreddit node already exists\n",
    "    existing_subreddit = existing_nodes.get(row.Subreddit)\n",
    "\n",
    "    if existing_subreddit:\n",
    "        # If the node exists, use it\n",
    "        subreddit_node = existing_subreddit\n",
    "    else:\n",
    "        # If not, create a new node\n",
    "        subreddit_node = Node(\"Subreddit\", name=row.Subreddit)\n",
    "        tx.create(subreddit_node)\n",
    "        existing_nodes[row.Subreddit] = subreddit_node\n",
    "\n",
    "    \n",
    "    # Check if the Word node already exists\n",
    "    existing_word = existing_nodes.get(row.Word2)    \n",
    "    if existing_word:\n",
    "        # If the node exists, use it\n",
    "        word2_node = existing_word\n",
    "    else:\n",
    "         # If not, create a new node\n",
    "        word2_node = Node(\"Word\", name=row.Word2)\n",
    "        tx.create(word2_node)\n",
    "        existing_nodes[row.Word2] = word2_node\n",
    "\n",
    "    # Use Word1 as the relationship type\n",
    "    relationship = Relationship(subreddit_node, row.Word1, word2_node)\n",
    "\n",
    "    # Always create relationships\n",
    "    tx.create(relationship)\n",
    "\n",
    "graph.commit(tx)\n"
   ]
  },
  {
   "cell_type": "code",
   "execution_count": 28,
   "metadata": {},
   "outputs": [
    {
     "data": {
      "text/plain": [
       "[{'n': Node('Subreddit', name='depression')},\n",
       " {'n': Node('Subreddit', name='schizophrenia')},\n",
       " {'n': Node('Subreddit', name='mentalillness')},\n",
       " {'n': Node('Subreddit', name='bipolar')},\n",
       " {'n': Node('Subreddit', name='Anxiety')},\n",
       " {'n': Node('Subreddit', name='BPD')}]"
      ]
     },
     "execution_count": 28,
     "metadata": {},
     "output_type": "execute_result"
    }
   ],
   "source": [
    "query = \"MATCH (n:Subreddit) RETURN n LIMIT 10\"\n",
    "graph.run(query).data()\n",
    "\n",
    "# Query to return all nodes in the graph\n",
    "# query = \"MATCH (n) return n\"\n",
    "# graph.run(query).data()"
   ]
  }
 ],
 "metadata": {
  "kernelspec": {
   "display_name": "Python 3",
   "language": "python",
   "name": "python3"
  },
  "language_info": {
   "codemirror_mode": {
    "name": "ipython",
    "version": 3
   },
   "file_extension": ".py",
   "mimetype": "text/x-python",
   "name": "python",
   "nbconvert_exporter": "python",
   "pygments_lexer": "ipython3",
   "version": "3.12.1"
  }
 },
 "nbformat": 4,
 "nbformat_minor": 2
}
