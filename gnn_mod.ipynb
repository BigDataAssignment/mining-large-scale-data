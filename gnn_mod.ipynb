{
 "cells": [
  {
   "cell_type": "markdown",
   "metadata": {},
   "source": [
    "# Graph Neural Network\n",
    "\n",
    "Author: Adam Darmanin & Christian Spiteri Gauci\n",
    "\n",
    "## Tensorflow GCN Citation\n",
    "\n",
    "```latex\n",
    "@article{tfgnn,\n",
    "  author  = {Oleksandr Ferludin and Arno Eigenwillig and Martin Blais and\n",
    "             Dustin Zelle and Jan Pfeifer and Alvaro Sanchez{-}Gonzalez and\n",
    "             Wai Lok Sibon Li and Sami Abu{-}El{-}Haija and Peter Battaglia and\n",
    "             Neslihan Bulut and Jonathan Halcrow and\n",
    "             Filipe Miguel Gon{\\c{c}}alves de Almeida and Pedro Gonnet and\n",
    "             Liangze Jiang and Parth Kothari and Silvio Lattanzi and \n",
    "             Andr{\\'{e}} Linhares and Brandon Mayer and Vahab Mirrokni and\n",
    "             John Palowitch and Mihir Paradkar and Jennifer She and\n",
    "             Anton Tsitsulin and Kevin Villela and Lisa Wang and David Wong and\n",
    "             Bryan Perozzi},\n",
    "  title   = {{TF-GNN:} Graph Neural Networks in TensorFlow},\n",
    "  journal = {CoRR},\n",
    "  volume  = {abs/2207.03522},\n",
    "  year    = {2023},\n",
    "  url     = {http://arxiv.org/abs/2207.03522},\n",
    "}\n",
    "\n",
    "@misc{StellarGraph,\n",
    "  author = {CSIRO's Data61},\n",
    "  title = {StellarGraph Machine Learning Library},\n",
    "  year = {2018},\n",
    "  publisher = {GitHub},\n",
    "  journal = {GitHub Repository},\n",
    "  howpublished = {\\url{https://github.com/stellargraph/stellargraph}},\n",
    "}\n",
    "```"
   ]
  },
  {
   "cell_type": "markdown",
   "metadata": {},
   "source": [
    "## Supervised graph classification Problem\n",
    "\n",
    "Posts are graphs, and graphs are within a mental health category.\n",
    "We need to classify the graph.\n",
    "\n",
    "- paper: https://arxiv.org/abs/1902.06673\n",
    "- see: https://stellargraph.readthedocs.io/en/stable/demos/basics/loading-pandas.html#Edge-features\n",
    "- see: https://stellargraph.readthedocs.io/en/stable/demos/graph-classification/\n",
    "\n",
    "GNNS take graphs as inputs, and perform trained transformations and aggregations of features across the nodes and edges.\n",
    "GNNs maintain vectors for each node - the node state, similar to a neuron.\n",
    "\n",
    "The GNN updates the states with trainable functions: message passing, convolutions or attention. An update is\n",
    "1. States are broadcas across edges.\n",
    "2. Message is computed as an aggregate function.\n",
    "3. Nodes pool messages using a fucntion or attention model.\n",
    "4. Each node updates the state - using a NN possible.\n",
    "5. Process is repeated.\n",
    "6. Hetero graphs get seperate wieghts. Irregular and not possible with a normal tensor (similar to NLP) and needs a graph tensor (ragged tensor), this also store direction.\n",
    "7. Trained e2e by BP to reduct loss.\n",
    "8. Reading out the final GNN  state\n",
    "\n",
    "Arch:\n",
    "- Encoder for input features\n",
    "- GNN for state update\n",
    "- A prediction head\n",
    "- Node sets - feature containers + size info, -1 being latent and ragged. All nodes in a set (id) have same features.\n",
    "- lantent nodes - nodes with out features whose embeddings will be calc.\n",
    "- Edge Sets (source and target), ead set also has adjancy object.\n",
    "- homo graphs - edge sets on single type of node (both source and target)\n",
    "- Context or Global features. The ground truth for the whole graph or sub-graph.\n",
    "\n",
    "In training, a seed node or sub-graph is required. Graph classification, take tensor with hidden states and apply a classifier on top, this is for an inplicit readout for a sinlge node of interest, or direct readout for a feture tensor. Can aklso have a special node for structre readouts.\n",
    "\n",
    "# Graph Schema\n",
    "\n",
    "- see: tensorflow_gnn/proto/graph_schema.proto:GraphSchema\n",
    "- see schema: ./gnn/mh_gnn.pbtxt\n",
    "\n",
    "- Validate schema: `tfgnn_validate_graph_schema --logtostderr --graph_schema=gnn/mh_graph.pbtxt`\n",
    "- Generatete mock training data: `tfgnn_generate_training_data --graph_schema=gnn/mh_graph.pbtxt --examples=gnn/mh_graph.tfrecord --file_format=tfrecord --num_examples=100`"
   ]
  },
  {
   "cell_type": "markdown",
   "metadata": {},
   "source": [
    "#### Getting 6 dataframes from the graph using queries. Fix LIMIT size to change reach"
   ]
  },
  {
   "cell_type": "code",
   "execution_count": 73,
   "metadata": {},
   "outputs": [
    {
     "name": "stderr",
     "output_type": "stream",
     "text": [
      "Processing Mental Health Disorders: 0node [00:00, ?node/s]C:\\Users\\chris\\AppData\\Local\\Temp\\ipykernel_29656\\593375664.py:31: DeprecationWarning: `id` is deprecated, use `element_id` instead\n",
      "  relationships_result = session.run(relationships_query, {\"mental_health_disorder_node_id\": mental_health_disorder_node.id})\n"
     ]
    },
    {
     "name": "stdout",
     "output_type": "stream",
     "text": [
      "Mental Health Disorder Name: anxiety\n"
     ]
    },
    {
     "name": "stderr",
     "output_type": "stream",
     "text": [
      "Processing Mental Health Disorders: 1node [00:00,  1.05node/s]"
     ]
    },
    {
     "name": "stdout",
     "output_type": "stream",
     "text": [
      "Length of relationships_data: 4988\n",
      "Created DataFrame: df_anxiety\n",
      "Mental Health Disorder Name: bpd\n"
     ]
    },
    {
     "name": "stderr",
     "output_type": "stream",
     "text": [
      "Processing Mental Health Disorders: 2node [00:01,  1.14node/s]"
     ]
    },
    {
     "name": "stdout",
     "output_type": "stream",
     "text": [
      "Length of relationships_data: 4987\n",
      "Created DataFrame: df_bpd\n",
      "Mental Health Disorder Name: depression\n"
     ]
    },
    {
     "name": "stderr",
     "output_type": "stream",
     "text": [
      "Processing Mental Health Disorders: 3node [00:02,  1.28node/s]"
     ]
    },
    {
     "name": "stdout",
     "output_type": "stream",
     "text": [
      "Length of relationships_data: 4983\n",
      "Created DataFrame: df_depression\n",
      "Mental Health Disorder Name: schizophrenia\n"
     ]
    },
    {
     "name": "stderr",
     "output_type": "stream",
     "text": [
      "Processing Mental Health Disorders: 4node [00:03,  1.30node/s]"
     ]
    },
    {
     "name": "stdout",
     "output_type": "stream",
     "text": [
      "Length of relationships_data: 4984\n",
      "Created DataFrame: df_schizophrenia\n",
      "Mental Health Disorder Name: mentalillness\n"
     ]
    },
    {
     "name": "stderr",
     "output_type": "stream",
     "text": [
      "Processing Mental Health Disorders: 5node [00:03,  1.33node/s]"
     ]
    },
    {
     "name": "stdout",
     "output_type": "stream",
     "text": [
      "Length of relationships_data: 4985\n",
      "Created DataFrame: df_mentalillness\n",
      "Mental Health Disorder Name: bipolar\n"
     ]
    },
    {
     "name": "stderr",
     "output_type": "stream",
     "text": [
      "Processing Mental Health Disorders: 6node [00:04,  1.27node/s]"
     ]
    },
    {
     "name": "stdout",
     "output_type": "stream",
     "text": [
      "Length of relationships_data: 4989\n",
      "Created DataFrame: df_bipolar\n"
     ]
    },
    {
     "name": "stderr",
     "output_type": "stream",
     "text": [
      "\n"
     ]
    }
   ],
   "source": [
    "from tqdm import tqdm\n",
    "import numpy as np\n",
    "import pandas as pd\n",
    "from random import random\n",
    "\n",
    "uri = \"bolt://localhost:7687\"\n",
    "client_id = os.getenv(\"N4J_USER\")\n",
    "client_secret = os.getenv(\"N4J_PW\")\n",
    "\n",
    "def convert_to_list(value):\n",
    "    if isinstance(value, np.ndarray):\n",
    "        return value.tolist()\n",
    "    return value\n",
    "\n",
    "def fetch_mental_health_disorder_data(session):\n",
    "    mental_health_disorder_dataframes = {}\n",
    "\n",
    "    # This query was tested on Neo4j and it worked\n",
    "    mental_health_disorders_query = \"MATCH (m:Mental_Health_Disorder) RETURN m\"\n",
    "\n",
    "    mental_health_disorders_result = session.run(mental_health_disorders_query)\n",
    "\n",
    "    for mental_health_disorder_record in tqdm(mental_health_disorders_result, desc=\"Processing Mental Health Disorders\", unit=\"node\"):\n",
    "        mental_health_disorder_node = mental_health_disorder_record[\"m\"]\n",
    "        \n",
    "\n",
    "        disorder_name = mental_health_disorder_node.get(\"name\")\n",
    "        print(f\"Mental Health Disorder Name: {disorder_name}\")\n",
    "\n",
    "        relationships_query = \"MATCH path=(m:Mental_Health_Disorder)-[r*1..5]-(n) WHERE ID(m) = $mental_health_disorder_node_id RETURN path LIMIT 1000\" #Change Limit number to any number. Can remove for whole graph\n",
    "        relationships_result = session.run(relationships_query, {\"mental_health_disorder_node_id\": mental_health_disorder_node.id})\n",
    "\n",
    "        relationships_data = []\n",
    "        for rel_record in relationships_result:\n",
    "            path = rel_record[\"path\"]\n",
    "            nodes = path.nodes\n",
    "\n",
    "            for i in range(len(nodes) - 1):\n",
    "                source_node = nodes[i]\n",
    "                target_node = nodes[i + 1]\n",
    "                relationship_type = path.relationships[i].type\n",
    "\n",
    "                # relationships_data.append(\n",
    "                #     {\n",
    "                #         \"source_embedding\": convert_to_list(source_node.get(\"embedding\")),\n",
    "                #         \"relationship\": relationship_type,\n",
    "                #         \"target_embedding\": convert_to_list(target_node.get(\"embedding\")),\n",
    "                #     }\n",
    "                # )\n",
    "\n",
    "                relationships_data.append(\n",
    "                       {\n",
    "                            \"source_node_name\": source_node.get(\"name\"),\n",
    "                            \"source_embedding\": convert_to_list(source_node.get(\"embedding\")),\n",
    "                            \"relationship\": relationship_type,\n",
    "                            \"target_node_name\": target_node.get(\"name\"),\n",
    "                            \"target_embedding\": convert_to_list(target_node.get(\"embedding\")),\n",
    "                        }\n",
    "                )\n",
    "\n",
    "        print(f\"Length of relationships_data: {len(relationships_data)}\")\n",
    "\n",
    "        df_name = f\"df_{disorder_name.replace(' ', '_')}\"\n",
    "        mental_health_disorder_dataframes[df_name] = pd.DataFrame(relationships_data)\n",
    "        print(f\"Created DataFrame: {df_name}\")\n",
    "\n",
    "    return mental_health_disorder_dataframes\n",
    "\n",
    "with GraphDatabase.driver(uri, auth=(client_id, client_secret)) as driver:\n",
    "    with driver.session() as session:\n",
    "        mental_health_disorder_dataframes = fetch_mental_health_disorder_data(session)\n",
    "\n",
    "\n"
   ]
  },
  {
   "cell_type": "code",
   "execution_count": 74,
   "metadata": {},
   "outputs": [
    {
     "name": "stdout",
     "output_type": "stream",
     "text": [
      "     source_node_name                                   source_embedding  \\\n",
      "0             anxiety  [-0.05983474850654602, 0.036320917308330536, 0...   \n",
      "1             anxiety  [-0.05983474850654602, 0.036320917308330536, 0...   \n",
      "2              thrown  [-0.021872837096452713, -0.0012634199811145663...   \n",
      "3             anxiety  [-0.05983474850654602, 0.036320917308330536, 0...   \n",
      "4              thrown  [-0.021872837096452713, -0.0012634199811145663...   \n",
      "...               ...                                                ...   \n",
      "4983          anxiety  [-0.05983474850654602, 0.036320917308330536, 0...   \n",
      "4984           thrown  [-0.021872837096452713, -0.0012634199811145663...   \n",
      "4985            trash  [-0.05023549497127533, 0.028847483918070793, 0...   \n",
      "4986            clean  [-0.011358335614204407, 0.063572458922863, 0.0...   \n",
      "4987             feel  [0.02099844440817833, -0.005194579251110554, 0...   \n",
      "\n",
      "     relationship target_node_name  \\\n",
      "0            dobj           thrown   \n",
      "1            dobj           thrown   \n",
      "2            dobj            trash   \n",
      "3            dobj           thrown   \n",
      "4            dobj            trash   \n",
      "...           ...              ...   \n",
      "4983         dobj           thrown   \n",
      "4984         dobj            trash   \n",
      "4985         dobj            clean   \n",
      "4986        nsubj             feel   \n",
      "4987        nsubj          again--   \n",
      "\n",
      "                                       target_embedding  \n",
      "0     [-0.021872837096452713, -0.0012634199811145663...  \n",
      "1     [-0.021872837096452713, -0.0012634199811145663...  \n",
      "2     [-0.05023549497127533, 0.028847483918070793, 0...  \n",
      "3     [-0.021872837096452713, -0.0012634199811145663...  \n",
      "4     [-0.05023549497127533, 0.028847483918070793, 0...  \n",
      "...                                                 ...  \n",
      "4983  [-0.021872837096452713, -0.0012634199811145663...  \n",
      "4984  [-0.05023549497127533, 0.028847483918070793, 0...  \n",
      "4985  [-0.011358335614204407, 0.063572458922863, 0.0...  \n",
      "4986  [0.02099844440817833, -0.005194579251110554, 0...  \n",
      "4987  [-0.0405774749815464, 0.05261273309588432, 0.0...  \n",
      "\n",
      "[4988 rows x 5 columns]\n"
     ]
    }
   ],
   "source": [
    "print(mental_health_disorder_dataframes[\"df_anxiety\"])"
   ]
  },
  {
   "cell_type": "markdown",
   "metadata": {},
   "source": [
    "Keeping the words as Nodes, and then creating a df with the embedding as a feature of those words to be able to feed to GCN"
   ]
  },
  {
   "cell_type": "code",
   "execution_count": 75,
   "metadata": {},
   "outputs": [
    {
     "name": "stdout",
     "output_type": "stream",
     "text": [
      "Processing DataFrame: df_anxiety\n",
      "Extracted Label: anxiety\n",
      "Processing DataFrame: df_bpd\n",
      "Extracted Label: bpd\n",
      "Processing DataFrame: df_depression\n",
      "Extracted Label: depression\n",
      "Processing DataFrame: df_schizophrenia\n",
      "Extracted Label: schizophrenia\n",
      "Processing DataFrame: df_mentalillness\n",
      "Extracted Label: mentalillness\n",
      "Processing DataFrame: df_bipolar\n",
      "Extracted Label: bipolar\n",
      "StellarGraph: Undirected multigraph\n",
      " Nodes: 695, Edges: 4805\n",
      "\n",
      " Node types:\n",
      "  default: [695]\n",
      "    Features: float32 vector, length 1\n",
      "    Edge types: default-default->default\n",
      "\n",
      " Edge types:\n",
      "    default-default->default: [4805]\n",
      "        Weights: all 1 (default)\n",
      "        Features: none\n",
      "anxiety\n"
     ]
    },
    {
     "data": {
      "text/html": [
       "<div>\n",
       "<style scoped>\n",
       "    .dataframe tbody tr th:only-of-type {\n",
       "        vertical-align: middle;\n",
       "    }\n",
       "\n",
       "    .dataframe tbody tr th {\n",
       "        vertical-align: top;\n",
       "    }\n",
       "\n",
       "    .dataframe thead th {\n",
       "        text-align: right;\n",
       "    }\n",
       "</style>\n",
       "<table border=\"1\" class=\"dataframe\">\n",
       "  <thead>\n",
       "    <tr style=\"text-align: right;\">\n",
       "      <th></th>\n",
       "      <th>Graph</th>\n",
       "      <th>Label</th>\n",
       "    </tr>\n",
       "  </thead>\n",
       "  <tbody>\n",
       "    <tr>\n",
       "      <th>0</th>\n",
       "      <td>&lt;stellargraph.core.graph.StellarGraph object a...</td>\n",
       "      <td>anxiety</td>\n",
       "    </tr>\n",
       "    <tr>\n",
       "      <th>1</th>\n",
       "      <td>&lt;stellargraph.core.graph.StellarGraph object a...</td>\n",
       "      <td>bpd</td>\n",
       "    </tr>\n",
       "    <tr>\n",
       "      <th>2</th>\n",
       "      <td>&lt;stellargraph.core.graph.StellarGraph object a...</td>\n",
       "      <td>depression</td>\n",
       "    </tr>\n",
       "  </tbody>\n",
       "</table>\n",
       "</div>"
      ],
      "text/plain": [
       "                                               Graph       Label\n",
       "0  <stellargraph.core.graph.StellarGraph object a...     anxiety\n",
       "1  <stellargraph.core.graph.StellarGraph object a...         bpd\n",
       "2  <stellargraph.core.graph.StellarGraph object a...  depression"
      ]
     },
     "execution_count": 75,
     "metadata": {},
     "output_type": "execute_result"
    }
   ],
   "source": [
    "from stellargraph import StellarGraph\n",
    "import pandas as pd\n",
    "import numpy as np\n",
    "\n",
    "stellar_graphs = []\n",
    "labels = []\n",
    "\n",
    "for df_name, df in mental_health_disorder_dataframes.items():\n",
    "    print(\"Processing DataFrame:\", df_name)\n",
    "    \n",
    "    df = mental_health_disorder_dataframes[df_name].drop('relationship', axis=1) \n",
    "\n",
    "    valid_rows = ~df['source_embedding'].isna() & ~df['target_embedding'].isna()\n",
    "    df = df[valid_rows]\n",
    "\n",
    "\n",
    "    unique_words = list(set(df['source_node_name']).union(set(df['target_node_name'])))\n",
    "    nodes_data_df = pd.DataFrame(index=unique_words)\n",
    "    nodes_data_df['embedding'] = [list() for _ in nodes_data_df.index]\n",
    "\n",
    "\n",
    "    for _, row in df.iterrows():\n",
    "        source_embedding = row['source_embedding']\n",
    "        target_embedding = row['target_embedding']\n",
    "        nodes_data_df.at[row['source_node_name'], 'embedding'].extend(source_embedding)\n",
    "        nodes_data_df.at[row['target_node_name'], 'embedding'].extend(target_embedding)\n",
    "\n",
    "    \n",
    "    nodes_data_df['embedding'] = nodes_data_df['embedding'].apply(lambda x: hash(tuple(x)))\n",
    "\n",
    "\n",
    "    source_nodes = pd.Series(df['source_node_name'].rename('source'))\n",
    "    target_nodes = pd.Series(df['target_node_name'].rename('target'))\n",
    "\n",
    "    df = pd.concat([source_nodes, target_nodes], axis=1)\n",
    "\n",
    "    # testGraph = StellarGraph(edges=df)\n",
    "    testGraph = StellarGraph(nodes_data_df, df)\n",
    "\n",
    "\n",
    "    label = df_name.replace('df_', '')\n",
    "    print(\"Extracted Label:\", label)\n",
    "\n",
    "    stellar_graphs.append(testGraph)\n",
    "    labels.append(label)\n",
    "\n",
    "\n",
    "    \n",
    "\n",
    "print(stellar_graphs[0].info())\n",
    "print(labels[0])\n",
    "\n",
    "graph_df = pd.DataFrame({\"Graph\": stellar_graphs, \"Label\": list(labels)})\n",
    "graph_df.head(3)\n",
    "\n"
   ]
  },
  {
   "cell_type": "code",
   "execution_count": 77,
   "metadata": {},
   "outputs": [
    {
     "name": "stdout",
     "output_type": "stream",
     "text": [
      "Segmenting Graph: 0\n"
     ]
    },
    {
     "name": "stderr",
     "output_type": "stream",
     "text": [
      "c:\\Users\\chris\\anaconda3\\envs\\GNN\\lib\\site-packages\\sklearn\\manifold\\_spectral_embedding.py:285: UserWarning: Graph is not fully connected, spectral embedding may not work as expected.\n",
      "  warnings.warn(\n"
     ]
    },
    {
     "name": "stdout",
     "output_type": "stream",
     "text": [
      "Segmenting Graph: 1\n"
     ]
    },
    {
     "name": "stderr",
     "output_type": "stream",
     "text": [
      "c:\\Users\\chris\\anaconda3\\envs\\GNN\\lib\\site-packages\\sklearn\\manifold\\_spectral_embedding.py:285: UserWarning: Graph is not fully connected, spectral embedding may not work as expected.\n",
      "  warnings.warn(\n"
     ]
    },
    {
     "name": "stdout",
     "output_type": "stream",
     "text": [
      "Segmenting Graph: 2\n"
     ]
    },
    {
     "name": "stderr",
     "output_type": "stream",
     "text": [
      "c:\\Users\\chris\\anaconda3\\envs\\GNN\\lib\\site-packages\\sklearn\\manifold\\_spectral_embedding.py:285: UserWarning: Graph is not fully connected, spectral embedding may not work as expected.\n",
      "  warnings.warn(\n"
     ]
    },
    {
     "name": "stdout",
     "output_type": "stream",
     "text": [
      "Segmenting Graph: 3\n"
     ]
    }
   ],
   "source": [
    "from stellargraph import StellarGraph\n",
    "from stellargraph.data import BiasedRandomWalk\n",
    "from sklearn.cluster import SpectralClustering\n",
    "import networkx as nx\n",
    "\n",
    "\n",
    "segmented_subgraphs = []\n",
    "\n",
    "for i, graph in enumerate(stellar_graphs):\n",
    "    print(\"Segmenting Graph:\", i)\n",
    "\n",
    "    # Generate biased random walks on the graph\n",
    "    rw = BiasedRandomWalk(graph)\n",
    "    walks = rw.run(graph.nodes(), n=10, length=80, p=0.5, q=2.0)\n",
    "\n",
    "    # Map node names to numeric indices\n",
    "    node_mapping = {node: idx for idx, node in enumerate(graph.nodes())}\n",
    "    walks_numeric = [[node_mapping[node] for node in walk] for walk in walks]\n",
    "\n",
    "    # Apply clustering algorithm (e.g., Spectral Clustering)\n",
    "    clustering = SpectralClustering(n_clusters=10, assign_labels=\"discretize\", random_state=42)\n",
    "    node_labels = clustering.fit_predict(walks_numeric)\n",
    "\n",
    "    subgraphs = []\n",
    "    for label in set(node_labels):\n",
    "        nodes_in_cluster = [node for node, cluster_label in zip(graph.nodes(), node_labels) if cluster_label == label]\n",
    "        subgraph = graph.subgraph(nodes_in_cluster)\n",
    "        \n",
    "        if len(subgraph.nodes()) > 0:\n",
    "            subgraphs.append(subgraph)\n",
    "\n",
    "    segmented_subgraphs.extend(subgraphs)\n",
    "\n"
   ]
  },
  {
   "cell_type": "markdown",
   "metadata": {},
   "source": [
    "# GCN Architecture\n",
    "\n",
    "![alt](./misc/gcn_arch.PNG)\n",
    "\n",
    "Generator feeds data to the NN.\n",
    "\n",
    "- 2 convolutional layers (64-dimensional output features map in each) \n",
    "- 2 fully connected layers (producing 32-and 2-dimensional output features, respectively) to predict the mental health or lack off class probabilities. \n",
    "- 1 head of graph attention was used in every convolutional layer to implement the filters together with mean-pooling for dimensionality reduction.\n",
    "- We used Scaled Exponential Linear Unit (SELU) as non-linearity throughout the entire network.\n",
    "- Hinge loss was employed to train the neural network (we preferred hinge loss to the more commonly\n",
    "- used mean cross entropy as it outperformed the latter in early experiments). No regularization was\n",
    "used with our model"
   ]
  },
  {
   "cell_type": "code",
   "execution_count": 72,
   "metadata": {},
   "outputs": [
    {
     "ename": "ValueError",
     "evalue": "graphs: expected every graph to be non-empty, found graph with no nodes",
     "output_type": "error",
     "traceback": [
      "\u001b[1;31m---------------------------------------------------------------------------\u001b[0m",
      "\u001b[1;31mValueError\u001b[0m                                Traceback (most recent call last)",
      "Cell \u001b[1;32mIn[72], line 15\u001b[0m\n\u001b[0;32m     12\u001b[0m \u001b[38;5;28;01mimport\u001b[39;00m \u001b[38;5;21;01mtensorflow\u001b[39;00m \u001b[38;5;28;01mas\u001b[39;00m \u001b[38;5;21;01mtf\u001b[39;00m\n\u001b[0;32m     13\u001b[0m \u001b[38;5;28;01mimport\u001b[39;00m \u001b[38;5;21;01mmatplotlib\u001b[39;00m\u001b[38;5;21;01m.\u001b[39;00m\u001b[38;5;21;01mpyplot\u001b[39;00m \u001b[38;5;28;01mas\u001b[39;00m \u001b[38;5;21;01mplt\u001b[39;00m\n\u001b[1;32m---> 15\u001b[0m generator \u001b[38;5;241m=\u001b[39m \u001b[43mPaddedGraphGenerator\u001b[49m\u001b[43m(\u001b[49m\u001b[43mgraphs\u001b[49m\u001b[38;5;241;43m=\u001b[39;49m\u001b[43msegmented_subgraphs\u001b[49m\u001b[43m)\u001b[49m\n\u001b[0;32m     17\u001b[0m \u001b[38;5;28;01mfrom\u001b[39;00m \u001b[38;5;21;01mtensorflow\u001b[39;00m\u001b[38;5;21;01m.\u001b[39;00m\u001b[38;5;21;01mkeras\u001b[39;00m\u001b[38;5;21;01m.\u001b[39;00m\u001b[38;5;21;01mlosses\u001b[39;00m \u001b[38;5;28;01mimport\u001b[39;00m categorical_hinge\n\u001b[0;32m     20\u001b[0m \u001b[38;5;28;01mdef\u001b[39;00m \u001b[38;5;21mcreate_graph_classification_model\u001b[39m(generator):\n",
      "File \u001b[1;32mc:\\Users\\chris\\anaconda3\\envs\\GNN\\lib\\site-packages\\stellargraph\\mapper\\padded_graph_generator.py:55\u001b[0m, in \u001b[0;36mPaddedGraphGenerator.__init__\u001b[1;34m(self, graphs, name)\u001b[0m\n\u001b[0;32m     52\u001b[0m \u001b[38;5;28;01mdef\u001b[39;00m \u001b[38;5;21m__init__\u001b[39m(\u001b[38;5;28mself\u001b[39m, graphs, name\u001b[38;5;241m=\u001b[39m\u001b[38;5;28;01mNone\u001b[39;00m):\n\u001b[0;32m     54\u001b[0m     \u001b[38;5;28mself\u001b[39m\u001b[38;5;241m.\u001b[39mnode_features_size \u001b[38;5;241m=\u001b[39m \u001b[38;5;28;01mNone\u001b[39;00m\n\u001b[1;32m---> 55\u001b[0m     \u001b[38;5;28;43mself\u001b[39;49m\u001b[38;5;241;43m.\u001b[39;49m\u001b[43m_check_graphs\u001b[49m\u001b[43m(\u001b[49m\u001b[43mgraphs\u001b[49m\u001b[43m)\u001b[49m\n\u001b[0;32m     57\u001b[0m     \u001b[38;5;28mself\u001b[39m\u001b[38;5;241m.\u001b[39mgraphs \u001b[38;5;241m=\u001b[39m graphs\n\u001b[0;32m     58\u001b[0m     \u001b[38;5;28mself\u001b[39m\u001b[38;5;241m.\u001b[39mname \u001b[38;5;241m=\u001b[39m name\n",
      "File \u001b[1;32mc:\\Users\\chris\\anaconda3\\envs\\GNN\\lib\\site-packages\\stellargraph\\mapper\\padded_graph_generator.py:70\u001b[0m, in \u001b[0;36mPaddedGraphGenerator._check_graphs\u001b[1;34m(self, graphs)\u001b[0m\n\u001b[0;32m     63\u001b[0m     \u001b[38;5;28;01mraise\u001b[39;00m \u001b[38;5;167;01mTypeError\u001b[39;00m(\n\u001b[0;32m     64\u001b[0m         \u001b[38;5;124mf\u001b[39m\u001b[38;5;124m\"\u001b[39m\u001b[38;5;124mgraphs: expected every element to be a StellarGraph object, found \u001b[39m\u001b[38;5;132;01m{\u001b[39;00m\u001b[38;5;28mtype\u001b[39m(graph)\u001b[38;5;241m.\u001b[39m\u001b[38;5;18m__name__\u001b[39m\u001b[38;5;132;01m}\u001b[39;00m\u001b[38;5;124m.\u001b[39m\u001b[38;5;124m\"\u001b[39m\n\u001b[0;32m     65\u001b[0m     )\n\u001b[0;32m     67\u001b[0m \u001b[38;5;28;01mif\u001b[39;00m graph\u001b[38;5;241m.\u001b[39mnumber_of_nodes() \u001b[38;5;241m==\u001b[39m \u001b[38;5;241m0\u001b[39m:\n\u001b[0;32m     68\u001b[0m     \u001b[38;5;66;03m# an empty graph has no information at all and breaks things like mean pooling, so\u001b[39;00m\n\u001b[0;32m     69\u001b[0m     \u001b[38;5;66;03m# let's disallow them\u001b[39;00m\n\u001b[1;32m---> 70\u001b[0m     \u001b[38;5;28;01mraise\u001b[39;00m \u001b[38;5;167;01mValueError\u001b[39;00m(\n\u001b[0;32m     71\u001b[0m         \u001b[38;5;124m\"\u001b[39m\u001b[38;5;124mgraphs: expected every graph to be non-empty, found graph with no nodes\u001b[39m\u001b[38;5;124m\"\u001b[39m\n\u001b[0;32m     72\u001b[0m     )\n\u001b[0;32m     74\u001b[0m \u001b[38;5;66;03m# Check that there is only a single node type for GAT or GCN\u001b[39;00m\n\u001b[0;32m     75\u001b[0m node_type \u001b[38;5;241m=\u001b[39m graph\u001b[38;5;241m.\u001b[39munique_node_type(\n\u001b[0;32m     76\u001b[0m     \u001b[38;5;124m\"\u001b[39m\u001b[38;5;124mgraphs: expected only graphs with a single node type, found a graph with node types: \u001b[39m\u001b[38;5;132;01m%(found)s\u001b[39;00m\u001b[38;5;124m\"\u001b[39m\n\u001b[0;32m     77\u001b[0m )\n",
      "\u001b[1;31mValueError\u001b[0m: graphs: expected every graph to be non-empty, found graph with no nodes"
     ]
    }
   ],
   "source": [
    "from stellargraph.mapper import PaddedGraphGenerator\n",
    "from stellargraph.layer import GCNSupervisedGraphClassification\n",
    "from stellargraph.layer import GraphAttention, MeanPoolingAggregator\n",
    "from IPython.display import display, HTML\n",
    "\n",
    "from tensorflow.keras import Model\n",
    "from tensorflow.keras.metrics import categorical_accuracy\n",
    "from tensorflow.keras.optimizers import Adam\n",
    "from tensorflow.keras.layers import Dense\n",
    "from tensorflow.keras.losses import categorical_crossentropy\n",
    "from tensorflow.keras.callbacks import EarlyStopping\n",
    "import tensorflow as tf\n",
    "import matplotlib.pyplot as plt\n",
    "\n",
    "generator = PaddedGraphGenerator(graphs=segmented_subgraphs)\n",
    "\n",
    "from tensorflow.keras.losses import categorical_hinge\n",
    "\n",
    "\n",
    "def create_graph_classification_model(generator):\n",
    "    gc_model = GCNSupervisedGraphClassification(\n",
    "        layer_sizes=[64, 64],\n",
    "        activations=[\"selu\", \"selu\"],\n",
    "        generator=generator,\n",
    "        dropout=0.5,\n",
    "        pooling=None,\n",
    "    )\n",
    "    x_inp, x_out = gc_model.in_out_tensors()\n",
    "    predictions = Dense(units=32, activation=\"selu\")(x_out)\n",
    "    predictions = Dense(units=6, activation=\"softmax\")(predictions)\n",
    "\n",
    "    model = Model(inputs=x_inp, outputs=predictions)\n",
    "    model.compile(\n",
    "        optimizer=Adam(0.005),\n",
    "        loss=categorical_hinge,  # Use categorical hinge loss\n",
    "        metrics=[categorical_accuracy],\n",
    "    )\n",
    "\n",
    "    return model\n",
    "\n",
    "\n",
    "epochs = 25  # maximum number of training epochs\n",
    "folds = 10  # the number of folds for k-fold cross validation\n",
    "n_repeats = 2  # the number of repeats for repeated k-fold cross validation\n",
    "es = EarlyStopping(\n",
    "    monitor=\"val_loss\", min_delta=0, patience=25, restore_best_weights=True\n",
    ")\n",
    "\n",
    "\n",
    "def train_fold(model, train_gen, test_gen, es, epochs):\n",
    "    history = model.fit(\n",
    "        train_gen,\n",
    "        epochs=epochs,\n",
    "        validation_data=test_gen,\n",
    "        verbose=0,\n",
    "        callbacks=[es],\n",
    "    )\n",
    "    test_metrics = model.evaluate(test_gen, verbose=0)\n",
    "    test_acc = test_metrics[model.metrics_names.index(\"categorical_accuracy\")]\n",
    "\n",
    "    return history, test_acc\n",
    "\n",
    "\n",
    "def get_generators(train_index, test_index, graph_labels, batch_size):\n",
    "    train_targets = graph_labels.iloc[train_index].values\n",
    "    test_targets = graph_labels.iloc[test_index].values\n",
    "    train_targets = to_categorical(train_targets, num_classes=6)\n",
    "    test_targets = to_categorical(test_targets, num_classes=6)\n",
    "    train_gen = generator.flow(\n",
    "        train_index,\n",
    "        targets=train_targets,\n",
    "        batch_size=batch_size,\n",
    "    )\n",
    "    test_gen = generator.flow(test_index, targets=test_targets, batch_size=batch_size)\n",
    "\n",
    "    return train_gen, test_gen\n",
    "\n",
    "\n",
    "test_accs = []\n",
    "\n",
    "from sklearn.model_selection import StratifiedKFold\n",
    "\n",
    "stratified_kfold = StratifiedKFold(n_splits=folds, shuffle=True)\n",
    "\n",
    "for i, (train_index, test_index) in enumerate(\n",
    "    stratified_kfold.split(\n",
    "        graph_df,\n",
    "        graph_df[\"Label\"],\n",
    "    )\n",
    "):\n",
    "    print(f\"Training and evaluating on fold {i+1} out of {folds}...\")\n",
    "    train_gen, test_gen = get_generators(\n",
    "        train_index, test_index, graph_df[\"Label\"], batch_size=30\n",
    "    )\n",
    "\n",
    "    model = create_graph_classification_model(generator)\n",
    "    assert model is not None\n",
    "\n",
    "    history, acc = train_fold(model, train_gen, test_gen, es, epochs)\n",
    "\n",
    "    test_accs.append(acc)\n",
    "\n",
    "print(\n",
    "    f\"Accuracy over all folds mean: {np.mean(test_accs)*100:.3f}% and std: {np.std(test_accs)*100:.2f}%\"\n",
    ")"
   ]
  },
  {
   "cell_type": "code",
   "execution_count": null,
   "metadata": {},
   "outputs": [
    {
     "data": {
      "text/plain": [
       "Text(0, 0.5, 'Count')"
      ]
     },
     "execution_count": 6,
     "metadata": {},
     "output_type": "execute_result"
    },
    {
     "data": {
      "image/png": "[encoded data removed]",
      "text/plain": [
       "<Figure size 800x600 with 1 Axes>"
      ]
     },
     "metadata": {},
     "output_type": "display_data"
    }
   ],
   "source": [
    "plt.figure(figsize=(8, 6))\n",
    "plt.hist(test_accs)\n",
    "plt.xlabel(\"Accuracy\")\n",
    "plt.ylabel(\"Count\")"
   ]
  }
 ],
 "metadata": {
  "kernelspec": {
   "display_name": "Python 3",
   "language": "python",
   "name": "python3"
  },
  "language_info": {
   "codemirror_mode": {
    "name": "ipython",
    "version": 3
   },
   "file_extension": ".py",
   "mimetype": "text/x-python",
   "name": "python",
   "nbconvert_exporter": "python",
   "pygments_lexer": "ipython3",
   "version": "3.9.15"
  }
 },
 "nbformat": 4,
 "nbformat_minor": 2
}
