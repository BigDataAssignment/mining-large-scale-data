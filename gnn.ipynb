{
 "cells": [
  {
   "cell_type": "markdown",
   "metadata": {},
   "source": [
    "# Graph Neural Network\n",
    "\n",
    "Author: Adam Darmanin\n",
    "\n",
    "## Paper\n",
    "\n",
    "[Kika, Alda, et al. \"Imbalance Node Classification with Graph Neural Networks (GNN): A Study on a Twitter Dataset.\"](https://www.proquest.com/openview/707deabdf2dee201896409a9a4fccfb7/1?pq-origsite=gscholar&cbl=5444811)"
   ]
  },
  {
   "cell_type": "code",
   "execution_count": 3,
   "metadata": {},
   "outputs": [
    {
     "name": "stdout",
     "output_type": "stream",
     "text": [
      "Epoch 1/30\n"
     ]
    },
    {
     "name": "stderr",
     "output_type": "stream",
     "text": [
      "c:\\Users\\adamd\\.conda\\envs\\tf\\lib\\site-packages\\keras\\initializers\\initializers_v2.py:120: UserWarning: The initializer GlorotUniform is unseeded and being called multiple times, which will return identical values  each time (even if the initializer is unseeded). Please update your code to provide a seed to the initializer, or avoid using the same initalizer instance more than once.\n",
      "  warnings.warn(\n"
     ]
    },
    {
     "ename": "ValueError",
     "evalue": "in user code:\n\n    File \"c:\\Users\\adamd\\.conda\\envs\\tf\\lib\\site-packages\\keras\\engine\\training.py\", line 1160, in train_function  *\n        return step_function(self, iterator)\n    File \"c:\\Users\\adamd\\.conda\\envs\\tf\\lib\\site-packages\\keras\\engine\\training.py\", line 1146, in step_function  **\n        outputs = model.distribute_strategy.run(run_step, args=(data,))\n    File \"c:\\Users\\adamd\\.conda\\envs\\tf\\lib\\site-packages\\keras\\engine\\training.py\", line 1135, in run_step  **\n        outputs = model.train_step(data)\n    File \"c:\\Users\\adamd\\.conda\\envs\\tf\\lib\\site-packages\\keras\\engine\\training.py\", line 993, in train_step\n        y_pred = self(x, training=True)\n    File \"c:\\Users\\adamd\\.conda\\envs\\tf\\lib\\site-packages\\keras\\utils\\traceback_utils.py\", line 70, in error_handler\n        raise e.with_traceback(filtered_tb) from None\n    File \"C:\\Users\\adamd\\AppData\\Local\\Temp\\__autograph_generated_filel93fmm0a.py\", line 11, in tf__call\n        x = ag__.converted_call(ag__.ld(self).conv1, ([ag__.ld(x), ag__.ld(a), ag__.ld(e)],), None, fscope)\n    File \"C:\\Users\\adamd\\AppData\\Local\\Temp\\__autograph_generated_filewnvors7h.py\", line 14, in tf___inner_check_dtypes\n        retval_ = ag__.converted_call(ag__.ld(call), (ag__.ld(inputs),), dict(**ag__.ld(kwargs)), fscope)\n    File \"C:\\Users\\adamd\\AppData\\Local\\Temp\\__autograph_generated_filemu8uc0s4.py\", line 10, in tf__call\n        (x, a) = ag__.ld(inputs)\n\n    ValueError: Exception encountered when calling layer \"gnn_model_2\" \"                 f\"(type GNNModel).\n    \n    in user code:\n    \n        File \"C:\\Users\\adamd\\AppData\\Local\\Temp\\ipykernel_20176\\118689106.py\", line 53, in call  *\n            x = self.conv1([x, a, e])\n        File \"c:\\Users\\adamd\\.conda\\envs\\tf\\lib\\site-packages\\keras\\utils\\traceback_utils.py\", line 70, in error_handler  **\n            raise e.with_traceback(filtered_tb) from None\n        File \"C:\\Users\\adamd\\AppData\\Local\\Temp\\__autograph_generated_filewnvors7h.py\", line 14, in tf___inner_check_dtypes\n            retval_ = ag__.converted_call(ag__.ld(call), (ag__.ld(inputs),), dict(**ag__.ld(kwargs)), fscope)\n        File \"C:\\Users\\adamd\\AppData\\Local\\Temp\\__autograph_generated_filemu8uc0s4.py\", line 10, in tf__call\n            (x, a) = ag__.ld(inputs)\n    \n        ValueError: Exception encountered when calling layer \"gat_conv_4\" \"                 f\"(type GATConv).\n        \n        in user code:\n        \n            File \"c:\\Users\\adamd\\.conda\\envs\\tf\\lib\\site-packages\\spektral\\layers\\convolutional\\conv.py\", line 167, in _inner_check_dtypes  *\n                return call(inputs, **kwargs)\n            File \"c:\\Users\\adamd\\.conda\\envs\\tf\\lib\\site-packages\\spektral\\layers\\convolutional\\gat_conv.py\", line 165, in call  *\n                x, a = inputs\n        \n            ValueError: too many values to unpack (expected 2)\n        \n        \n        Call arguments received by layer \"gat_conv_4\" \"                 f\"(type GATConv):\n          • inputs=['tf.Tensor(shape=(1, 96), dtype=float32)', 'tf.Tensor(shape=(1, 88), dtype=float32)', 'tf.Tensor(shape=(1, 1), dtype=float32)']\n          • mask=None\n    \n    \n    Call arguments received by layer \"gnn_model_2\" \"                 f\"(type GNNModel):\n      • inputs=('tf.Tensor(shape=(1, 96), dtype=float32)', 'tf.Tensor(shape=(1, 88), dtype=float32)', 'tf.Tensor(shape=(1, 1), dtype=float32)')\n",
     "output_type": "error",
     "traceback": [
      "\u001b[1;31m---------------------------------------------------------------------------\u001b[0m",
      "\u001b[1;31mValueError\u001b[0m                                Traceback (most recent call last)",
      "Cell \u001b[1;32mIn[3], line 61\u001b[0m\n\u001b[0;32m     59\u001b[0m model \u001b[38;5;241m=\u001b[39m GNNModel(number_of_classes)\n\u001b[0;32m     60\u001b[0m model\u001b[38;5;241m.\u001b[39mcompile(optimizer\u001b[38;5;241m=\u001b[39m\u001b[38;5;124m\"\u001b[39m\u001b[38;5;124madam\u001b[39m\u001b[38;5;124m\"\u001b[39m, loss\u001b[38;5;241m=\u001b[39m\u001b[38;5;124m\"\u001b[39m\u001b[38;5;124mcategorical_crossentropy\u001b[39m\u001b[38;5;124m\"\u001b[39m, metrics\u001b[38;5;241m=\u001b[39m[\u001b[38;5;124m\"\u001b[39m\u001b[38;5;124maccuracy\u001b[39m\u001b[38;5;124m\"\u001b[39m])\n\u001b[1;32m---> 61\u001b[0m \u001b[43mmodel\u001b[49m\u001b[38;5;241;43m.\u001b[39;49m\u001b[43mfit\u001b[49m\u001b[43m(\u001b[49m\n\u001b[0;32m     62\u001b[0m \u001b[43m    \u001b[49m\u001b[43mx\u001b[49m\u001b[38;5;241;43m=\u001b[39;49m\u001b[43m[\u001b[49m\u001b[43mnode_features_tf\u001b[49m\u001b[43m,\u001b[49m\u001b[43m \u001b[49m\u001b[43madjacency_matrix_tf\u001b[49m\u001b[43m,\u001b[49m\u001b[43m \u001b[49m\u001b[43medge_features_tf\u001b[49m\u001b[43m[\u001b[49m\u001b[43m:\u001b[49m\u001b[38;5;241;43m88\u001b[39;49m\u001b[43m]\u001b[49m\u001b[43m]\u001b[49m\u001b[43m,\u001b[49m\u001b[43m \u001b[49m\u001b[43mepochs\u001b[49m\u001b[38;5;241;43m=\u001b[39;49m\u001b[38;5;241;43m30\u001b[39;49m\u001b[43m,\u001b[49m\u001b[43m \u001b[49m\u001b[43mbatch_size\u001b[49m\u001b[38;5;241;43m=\u001b[39;49m\u001b[38;5;241;43m1\u001b[39;49m\n\u001b[0;32m     63\u001b[0m \u001b[43m)\u001b[49m\n",
      "File \u001b[1;32mc:\\Users\\adamd\\.conda\\envs\\tf\\lib\\site-packages\\keras\\utils\\traceback_utils.py:70\u001b[0m, in \u001b[0;36mfilter_traceback.<locals>.error_handler\u001b[1;34m(*args, **kwargs)\u001b[0m\n\u001b[0;32m     67\u001b[0m     filtered_tb \u001b[38;5;241m=\u001b[39m _process_traceback_frames(e\u001b[38;5;241m.\u001b[39m__traceback__)\n\u001b[0;32m     68\u001b[0m     \u001b[38;5;66;03m# To get the full stack trace, call:\u001b[39;00m\n\u001b[0;32m     69\u001b[0m     \u001b[38;5;66;03m# `tf.debugging.disable_traceback_filtering()`\u001b[39;00m\n\u001b[1;32m---> 70\u001b[0m     \u001b[38;5;28;01mraise\u001b[39;00m e\u001b[38;5;241m.\u001b[39mwith_traceback(filtered_tb) \u001b[38;5;28;01mfrom\u001b[39;00m \u001b[38;5;28;01mNone\u001b[39;00m\n\u001b[0;32m     71\u001b[0m \u001b[38;5;28;01mfinally\u001b[39;00m:\n\u001b[0;32m     72\u001b[0m     \u001b[38;5;28;01mdel\u001b[39;00m filtered_tb\n",
      "File \u001b[1;32m~\\AppData\\Local\\Temp\\__autograph_generated_filereiplkby.py:15\u001b[0m, in \u001b[0;36mouter_factory.<locals>.inner_factory.<locals>.tf__train_function\u001b[1;34m(iterator)\u001b[0m\n\u001b[0;32m     13\u001b[0m \u001b[38;5;28;01mtry\u001b[39;00m:\n\u001b[0;32m     14\u001b[0m     do_return \u001b[38;5;241m=\u001b[39m \u001b[38;5;28;01mTrue\u001b[39;00m\n\u001b[1;32m---> 15\u001b[0m     retval_ \u001b[38;5;241m=\u001b[39m ag__\u001b[38;5;241m.\u001b[39mconverted_call(ag__\u001b[38;5;241m.\u001b[39mld(step_function), (ag__\u001b[38;5;241m.\u001b[39mld(\u001b[38;5;28mself\u001b[39m), ag__\u001b[38;5;241m.\u001b[39mld(iterator)), \u001b[38;5;28;01mNone\u001b[39;00m, fscope)\n\u001b[0;32m     16\u001b[0m \u001b[38;5;28;01mexcept\u001b[39;00m:\n\u001b[0;32m     17\u001b[0m     do_return \u001b[38;5;241m=\u001b[39m \u001b[38;5;28;01mFalse\u001b[39;00m\n",
      "File \u001b[1;32m~\\AppData\\Local\\Temp\\__autograph_generated_filel93fmm0a.py:11\u001b[0m, in \u001b[0;36mouter_factory.<locals>.inner_factory.<locals>.tf__call\u001b[1;34m(self, inputs)\u001b[0m\n\u001b[0;32m      9\u001b[0m retval_ \u001b[38;5;241m=\u001b[39m ag__\u001b[38;5;241m.\u001b[39mUndefinedReturnValue()\n\u001b[0;32m     10\u001b[0m (x, a, e) \u001b[38;5;241m=\u001b[39m ag__\u001b[38;5;241m.\u001b[39mld(inputs)\n\u001b[1;32m---> 11\u001b[0m x \u001b[38;5;241m=\u001b[39m \u001b[43mag__\u001b[49m\u001b[38;5;241;43m.\u001b[39;49m\u001b[43mconverted_call\u001b[49m\u001b[43m(\u001b[49m\u001b[43mag__\u001b[49m\u001b[38;5;241;43m.\u001b[39;49m\u001b[43mld\u001b[49m\u001b[43m(\u001b[49m\u001b[38;5;28;43mself\u001b[39;49m\u001b[43m)\u001b[49m\u001b[38;5;241;43m.\u001b[39;49m\u001b[43mconv1\u001b[49m\u001b[43m,\u001b[49m\u001b[43m \u001b[49m\u001b[43m(\u001b[49m\u001b[43m[\u001b[49m\u001b[43mag__\u001b[49m\u001b[38;5;241;43m.\u001b[39;49m\u001b[43mld\u001b[49m\u001b[43m(\u001b[49m\u001b[43mx\u001b[49m\u001b[43m)\u001b[49m\u001b[43m,\u001b[49m\u001b[43m \u001b[49m\u001b[43mag__\u001b[49m\u001b[38;5;241;43m.\u001b[39;49m\u001b[43mld\u001b[49m\u001b[43m(\u001b[49m\u001b[43ma\u001b[49m\u001b[43m)\u001b[49m\u001b[43m,\u001b[49m\u001b[43m \u001b[49m\u001b[43mag__\u001b[49m\u001b[38;5;241;43m.\u001b[39;49m\u001b[43mld\u001b[49m\u001b[43m(\u001b[49m\u001b[43me\u001b[49m\u001b[43m)\u001b[49m\u001b[43m]\u001b[49m\u001b[43m,\u001b[49m\u001b[43m)\u001b[49m\u001b[43m,\u001b[49m\u001b[43m \u001b[49m\u001b[38;5;28;43;01mNone\u001b[39;49;00m\u001b[43m,\u001b[49m\u001b[43m \u001b[49m\u001b[43mfscope\u001b[49m\u001b[43m)\u001b[49m\n\u001b[0;32m     12\u001b[0m x \u001b[38;5;241m=\u001b[39m ag__\u001b[38;5;241m.\u001b[39mconverted_call(ag__\u001b[38;5;241m.\u001b[39mld(\u001b[38;5;28mself\u001b[39m)\u001b[38;5;241m.\u001b[39mconv2, ([ag__\u001b[38;5;241m.\u001b[39mld(x), ag__\u001b[38;5;241m.\u001b[39mld(a), ag__\u001b[38;5;241m.\u001b[39mld(e)],), \u001b[38;5;28;01mNone\u001b[39;00m, fscope)\n\u001b[0;32m     13\u001b[0m \u001b[38;5;28;01mtry\u001b[39;00m:\n",
      "File \u001b[1;32m~\\AppData\\Local\\Temp\\__autograph_generated_filewnvors7h.py:14\u001b[0m, in \u001b[0;36mouter_factory.<locals>.inner_factory.<locals>.tf___inner_check_dtypes\u001b[1;34m(inputs, **kwargs)\u001b[0m\n\u001b[0;32m     12\u001b[0m \u001b[38;5;28;01mtry\u001b[39;00m:\n\u001b[0;32m     13\u001b[0m     do_return \u001b[38;5;241m=\u001b[39m \u001b[38;5;28;01mTrue\u001b[39;00m\n\u001b[1;32m---> 14\u001b[0m     retval_ \u001b[38;5;241m=\u001b[39m ag__\u001b[38;5;241m.\u001b[39mconverted_call(ag__\u001b[38;5;241m.\u001b[39mld(call), (ag__\u001b[38;5;241m.\u001b[39mld(inputs),), \u001b[38;5;28mdict\u001b[39m(\u001b[38;5;241m*\u001b[39m\u001b[38;5;241m*\u001b[39mag__\u001b[38;5;241m.\u001b[39mld(kwargs)), fscope)\n\u001b[0;32m     15\u001b[0m \u001b[38;5;28;01mexcept\u001b[39;00m:\n\u001b[0;32m     16\u001b[0m     do_return \u001b[38;5;241m=\u001b[39m \u001b[38;5;28;01mFalse\u001b[39;00m\n",
      "File \u001b[1;32m~\\AppData\\Local\\Temp\\__autograph_generated_filemu8uc0s4.py:10\u001b[0m, in \u001b[0;36mouter_factory.<locals>.inner_factory.<locals>.tf__call\u001b[1;34m(self, inputs, mask)\u001b[0m\n\u001b[0;32m      8\u001b[0m do_return \u001b[38;5;241m=\u001b[39m \u001b[38;5;28;01mFalse\u001b[39;00m\n\u001b[0;32m      9\u001b[0m retval_ \u001b[38;5;241m=\u001b[39m ag__\u001b[38;5;241m.\u001b[39mUndefinedReturnValue()\n\u001b[1;32m---> 10\u001b[0m (x, a) \u001b[38;5;241m=\u001b[39m ag__\u001b[38;5;241m.\u001b[39mld(inputs)\n\u001b[0;32m     11\u001b[0m mode \u001b[38;5;241m=\u001b[39m ag__\u001b[38;5;241m.\u001b[39mconverted_call(ag__\u001b[38;5;241m.\u001b[39mld(ops)\u001b[38;5;241m.\u001b[39mautodetect_mode, (ag__\u001b[38;5;241m.\u001b[39mld(x), ag__\u001b[38;5;241m.\u001b[39mld(a)), \u001b[38;5;28;01mNone\u001b[39;00m, fscope)\n\u001b[0;32m     13\u001b[0m \u001b[38;5;28;01mdef\u001b[39;00m \u001b[38;5;21mget_state_1\u001b[39m():\n",
      "\u001b[1;31mValueError\u001b[0m: in user code:\n\n    File \"c:\\Users\\adamd\\.conda\\envs\\tf\\lib\\site-packages\\keras\\engine\\training.py\", line 1160, in train_function  *\n        return step_function(self, iterator)\n    File \"c:\\Users\\adamd\\.conda\\envs\\tf\\lib\\site-packages\\keras\\engine\\training.py\", line 1146, in step_function  **\n        outputs = model.distribute_strategy.run(run_step, args=(data,))\n    File \"c:\\Users\\adamd\\.conda\\envs\\tf\\lib\\site-packages\\keras\\engine\\training.py\", line 1135, in run_step  **\n        outputs = model.train_step(data)\n    File \"c:\\Users\\adamd\\.conda\\envs\\tf\\lib\\site-packages\\keras\\engine\\training.py\", line 993, in train_step\n        y_pred = self(x, training=True)\n    File \"c:\\Users\\adamd\\.conda\\envs\\tf\\lib\\site-packages\\keras\\utils\\traceback_utils.py\", line 70, in error_handler\n        raise e.with_traceback(filtered_tb) from None\n    File \"C:\\Users\\adamd\\AppData\\Local\\Temp\\__autograph_generated_filel93fmm0a.py\", line 11, in tf__call\n        x = ag__.converted_call(ag__.ld(self).conv1, ([ag__.ld(x), ag__.ld(a), ag__.ld(e)],), None, fscope)\n    File \"C:\\Users\\adamd\\AppData\\Local\\Temp\\__autograph_generated_filewnvors7h.py\", line 14, in tf___inner_check_dtypes\n        retval_ = ag__.converted_call(ag__.ld(call), (ag__.ld(inputs),), dict(**ag__.ld(kwargs)), fscope)\n    File \"C:\\Users\\adamd\\AppData\\Local\\Temp\\__autograph_generated_filemu8uc0s4.py\", line 10, in tf__call\n        (x, a) = ag__.ld(inputs)\n\n    ValueError: Exception encountered when calling layer \"gnn_model_2\" \"                 f\"(type GNNModel).\n    \n    in user code:\n    \n        File \"C:\\Users\\adamd\\AppData\\Local\\Temp\\ipykernel_20176\\118689106.py\", line 53, in call  *\n            x = self.conv1([x, a, e])\n        File \"c:\\Users\\adamd\\.conda\\envs\\tf\\lib\\site-packages\\keras\\utils\\traceback_utils.py\", line 70, in error_handler  **\n            raise e.with_traceback(filtered_tb) from None\n        File \"C:\\Users\\adamd\\AppData\\Local\\Temp\\__autograph_generated_filewnvors7h.py\", line 14, in tf___inner_check_dtypes\n            retval_ = ag__.converted_call(ag__.ld(call), (ag__.ld(inputs),), dict(**ag__.ld(kwargs)), fscope)\n        File \"C:\\Users\\adamd\\AppData\\Local\\Temp\\__autograph_generated_filemu8uc0s4.py\", line 10, in tf__call\n            (x, a) = ag__.ld(inputs)\n    \n        ValueError: Exception encountered when calling layer \"gat_conv_4\" \"                 f\"(type GATConv).\n        \n        in user code:\n        \n            File \"c:\\Users\\adamd\\.conda\\envs\\tf\\lib\\site-packages\\spektral\\layers\\convolutional\\conv.py\", line 167, in _inner_check_dtypes  *\n                return call(inputs, **kwargs)\n            File \"c:\\Users\\adamd\\.conda\\envs\\tf\\lib\\site-packages\\spektral\\layers\\convolutional\\gat_conv.py\", line 165, in call  *\n                x, a = inputs\n        \n            ValueError: too many values to unpack (expected 2)\n        \n        \n        Call arguments received by layer \"gat_conv_4\" \"                 f\"(type GATConv):\n          • inputs=['tf.Tensor(shape=(1, 96), dtype=float32)', 'tf.Tensor(shape=(1, 88), dtype=float32)', 'tf.Tensor(shape=(1, 1), dtype=float32)']\n          • mask=None\n    \n    \n    Call arguments received by layer \"gnn_model_2\" \"                 f\"(type GNNModel):\n      • inputs=('tf.Tensor(shape=(1, 96), dtype=float32)', 'tf.Tensor(shape=(1, 88), dtype=float32)', 'tf.Tensor(shape=(1, 1), dtype=float32)')\n"
     ]
    }
   ],
   "source": [
    "import os\n",
    "import numpy as np\n",
    "import tensorflow as tf\n",
    "from spektral.layers import GATConv\n",
    "from py2neo import Graph as NeoGraph\n",
    "import spacy\n",
    "from dotenv import load_dotenv\n",
    "\n",
    "load_dotenv()\n",
    "\n",
    "nlp = spacy.load(\"en_core_web_sm\")\n",
    "\n",
    "\n",
    "def get_spacy_embedding(word):\n",
    "    return nlp(word).vector\n",
    "\n",
    "\n",
    "client_id = os.getenv(\"N4J_USER\")\n",
    "client_secret = os.getenv(\"N4J_PW\")\n",
    "neo4j_graph = NeoGraph(\"bolt://localhost:7687\", auth=(client_id, client_secret))\n",
    "node_query = \"MATCH (n:Subreddit) RETURN n.name as name\"\n",
    "node_data = neo4j_graph.run(node_query).data()\n",
    "word_query = \"MATCH (n:Word) RETURN n.name as name\"\n",
    "word_data = neo4j_graph.run(word_query).data()\n",
    "\n",
    "node_features = np.array(\n",
    "    [get_spacy_embedding(node[\"name\"]) for node in node_data + word_data]\n",
    ")\n",
    "\n",
    "num_nodes = len(node_data) + len(word_data)\n",
    "adjacency_matrix = np.zeros((num_nodes, num_nodes))\n",
    "edge_query = \"MATCH (n:Subreddit)-[r]->(m:Word) RETURN id(n) as source, id(m) as target\"\n",
    "edge_data = neo4j_graph.run(edge_query).data()\n",
    "for edge in edge_data:\n",
    "    source = edge[\"source\"]\n",
    "    target = edge[\"target\"]\n",
    "    adjacency_matrix[source, target] = 1\n",
    "\n",
    "edge_features = np.ones((len(edge_data), 1))\n",
    "node_features_tf = tf.convert_to_tensor(node_features, dtype=tf.float32)\n",
    "adjacency_matrix_tf = tf.convert_to_tensor(adjacency_matrix, dtype=tf.float32)\n",
    "edge_features_tf = tf.convert_to_tensor(edge_features, dtype=tf.float32)\n",
    "\n",
    "\n",
    "class GNNModel(tf.keras.Model):\n",
    "    def __init__(self, n_out):\n",
    "        super().__init__()\n",
    "        self.conv1 = GATConv(32, activation=\"relu\")\n",
    "        self.conv2 = GATConv(n_out)\n",
    "\n",
    "    def call(self, inputs):\n",
    "        x, a, e = inputs\n",
    "        x = self.conv1([x, a, e])\n",
    "        x = self.conv2([x, a, e])\n",
    "        return x\n",
    "\n",
    "\n",
    "number_of_classes = 2\n",
    "model = GNNModel(number_of_classes)\n",
    "model.compile(optimizer=\"adam\", loss=\"categorical_crossentropy\", metrics=[\"accuracy\"])\n",
    "# Adam: the DIMs must be the same here\n",
    "model.fit(\n",
    "    x=[node_features_tf, adjacency_matrix_tf, edge_features_tf], epochs=30, batch_size=1\n",
    ")"
   ]
  }
 ],
 "metadata": {
  "kernelspec": {
   "display_name": "Python 3",
   "language": "python",
   "name": "python3"
  },
  "language_info": {
   "codemirror_mode": {
    "name": "ipython",
    "version": 3
   },
   "file_extension": ".py",
   "mimetype": "text/x-python",
   "name": "python",
   "nbconvert_exporter": "python",
   "pygments_lexer": "ipython3",
   "version": "3.10.13"
  }
 },
 "nbformat": 4,
 "nbformat_minor": 2
}
